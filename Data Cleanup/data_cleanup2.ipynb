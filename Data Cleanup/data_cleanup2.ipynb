{
 "cells": [
  {
   "cell_type": "code",
   "execution_count": null,
   "id": "dd3dd446",
   "metadata": {},
   "outputs": [],
   "source": [
    "#### MARIANO'S CODE BEGINS HERE ####"
   ]
  },
  {
   "cell_type": "code",
   "execution_count": null,
   "id": "28b95db2",
   "metadata": {},
   "outputs": [],
   "source": [
    "# cleanup the NaNs\n",
    "df. dropna()"
   ]
  },
  {
   "cell_type": "code",
   "execution_count": null,
   "id": "9807495f",
   "metadata": {},
   "outputs": [],
   "source": [
    "#Replace NaNs with 0\n",
    "df.fillna(0)"
   ]
  },
  {
   "cell_type": "code",
   "execution_count": null,
   "id": "fb8decf4",
   "metadata": {},
   "outputs": [],
   "source": [
    "# output merged dataframes to CSVs\n",
    "df.to_csv('Output.csv', index = False)"
   ]
  },
  {
   "cell_type": "code",
   "execution_count": null,
   "id": "1593fb95",
   "metadata": {},
   "outputs": [],
   "source": [
    "#### MARIANO'S CODE BEGINS HERE ####"
   ]
  }
 ],
 "metadata": {
  "kernelspec": {
   "display_name": "Python 3",
   "language": "python",
   "name": "python3"
  },
  "language_info": {
   "codemirror_mode": {
    "name": "ipython",
    "version": 3
   },
   "file_extension": ".py",
   "mimetype": "text/x-python",
   "name": "python",
   "nbconvert_exporter": "python",
   "pygments_lexer": "ipython3",
   "version": "3.8.8"
  }
 },
 "nbformat": 4,
 "nbformat_minor": 5
}
