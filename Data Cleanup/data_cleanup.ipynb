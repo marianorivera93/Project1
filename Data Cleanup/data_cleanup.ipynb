{
 "cells": [
  {
   "cell_type": "code",
   "execution_count": null,
   "id": "6a5f7938",
   "metadata": {},
   "outputs": [],
   "source": [
    "#### FIRST PHASE #####\n",
    "\n",
    "import pandas as pd\n",
    "import numpy as np\n",
    "import matplotlib.pyplot as plt\n",
    "\n",
    "pd.set_option('mode.chained_assignment', None)\n"
   ]
  },
  {
   "cell_type": "code",
   "execution_count": null,
   "id": "adcda4a3",
   "metadata": {},
   "outputs": [],
   "source": [
    "#https://www.kaggle.com/chicago/chicago-red-light-and-speed-camera-data\n",
    "csv_path_locations= \"Data_Files/speed-camera-locations.csv\"\n",
    "csv_path_violations=\"Data_Files/speed-camera-violations.csv\"\n",
    "\n",
    "#https://data.cityofchicago.org/Transportation/Traffic-Crashes-Crashes/85ca-t3if\n",
    "csv_path_crashes=\"Data_Files/Traffic_Crashes_-_Crashes.csv\"\n",
    "\n",
    "camera_locations_df= pd.read_csv(csv_path_locations)\n",
    "violations_df= pd.read_csv(csv_path_violations)\n",
    "crashes_df= pd.read_csv(csv_path_crashes)\n",
    "pd.set_option('max_columns', None)\n",
    "violations_df\n"
   ]
  },
  {
   "cell_type": "code",
   "execution_count": null,
   "id": "3db538db",
   "metadata": {},
   "outputs": [],
   "source": [
    "#Filter out violation columns and pull out year \n",
    "\n",
    "violation_dates= violations_df[[\"CAMERA ID\",\"VIOLATION DATE\"]]\n",
    "violation_dates['YEAR']= pd.DatetimeIndex(violation_dates[\"VIOLATION DATE\"]).year\n",
    "violation_dates['MONTH']= pd.DatetimeIndex(violation_dates[\"VIOLATION DATE\"]).month\n",
    "violation_dates.head()\n",
    "violation_dates_grouped= violation_dates.groupby(\"YEAR\").count()\n",
    "violation_dates_grouped"
   ]
  },
  {
   "cell_type": "code",
   "execution_count": null,
   "id": "184aca7d",
   "metadata": {},
   "outputs": [],
   "source": [
    "#Filter out camera location columns and pull out year\n",
    "camera_locations_df.head()\n",
    "# crash_dates_df['YEAR']= pd.DatetimeIndex(crash_dates_df[\"CRASH_DATE\"]).year\n",
    "camera_install_dates= camera_locations_df[[\"GO-LIVE DATE\",\"ADDRESS\"]]\n",
    "camera_install_dates['YEAR']= pd.DatetimeIndex(camera_install_dates[\"GO-LIVE DATE\"]).year\n",
    "camera_install_dates['MONTH']= pd.DatetimeIndex(camera_install_dates[\"GO-LIVE DATE\"]).month\n",
    "camera_install_dates.head()\n",
    "\n",
    "cameras_byYear= camera_install_dates.groupby(\"YEAR\").count()\n",
    "cameras_byYear.head()\n",
    "\n",
    "#add missing years\n",
    "missing_years= {\"YEAR\":[2016,2017], \"GO-LIVE DATE\":[0,0], \"ADDRESS\":[0,0], \"MONTH\":[0,0] }\n",
    "missing_years_df= pd.DataFrame(missing_years)\n",
    "missing_years_df= missing_years_df.set_index(\"YEAR\")\n",
    "missing_years_df\n",
    "\n",
    "cameras_byYear= cameras_byYear.append(missing_years_df)\n",
    "cameras_byYear= cameras_byYear.sort_index(ascending=True)\n",
    "cameras_byYear\n",
    "\n",
    "#add totals cameras at end of each year\n",
    "years= cameras_byYear.index.tolist()\n",
    "year_totals= []\n",
    "total_installed= 0\n",
    "for year in years:\n",
    "    total_installed=  total_installed + cameras_byYear.loc[year, [\"GO-LIVE DATE\"]]\n",
    "    year_totals.append(int(total_installed))\n",
    "    \n",
    "cameras_byYear[\"TOTAL LIVE\"]= year_totals\n",
    "cameras_byYear"
   ]
  },
  {
   "cell_type": "code",
   "execution_count": null,
   "id": "a5641b26",
   "metadata": {},
   "outputs": [],
   "source": [
    "#Filter out crash date columns and pull out year\n",
    "\n",
    "crash_dates_df= crashes_df[[\"CRASH_DATE\",\"CRASH_MONTH\",\"INJURIES_TOTAL\"]]\n",
    "crash_dates_df.head()\n",
    "pd.set_option('mode.chained_assignment', None)\n",
    "crash_dates_df['YEAR']= pd.DatetimeIndex(crash_dates_df[\"CRASH_DATE\"]).year\n",
    "crash_dates_df.head()\n",
    "crash_dates_grouped= crash_dates_df.groupby(\"YEAR\").count()"
   ]
  },
  {
   "cell_type": "markdown",
   "id": "2b4e06ab",
   "metadata": {},
   "source": [
    "Displaying All Tables"
   ]
  },
  {
   "cell_type": "code",
   "execution_count": null,
   "id": "23dc0cdc",
   "metadata": {},
   "outputs": [],
   "source": [
    "violation_dates_grouped"
   ]
  },
  {
   "cell_type": "code",
   "execution_count": null,
   "id": "6baf5996",
   "metadata": {},
   "outputs": [],
   "source": [
    "cameras_byYear"
   ]
  },
  {
   "cell_type": "code",
   "execution_count": null,
   "id": "fa8a3775",
   "metadata": {},
   "outputs": [],
   "source": [
    "crash_dates_grouped"
   ]
  },
  {
   "cell_type": "code",
   "execution_count": null,
   "id": "0303b90e",
   "metadata": {},
   "outputs": [],
   "source": [
    "violations_cameras_merge= pd.merge(violation_dates_grouped,cameras_byYear, on=\"YEAR\", how=\"outer\")\n",
    "violations_cameras_merge"
   ]
  },
  {
   "cell_type": "code",
   "execution_count": null,
   "id": "b3d709b8",
   "metadata": {},
   "outputs": [],
   "source": [
    "violations_cameras_merge= violations_cameras_merge[[\"CAMERA ID\",\"GO-LIVE DATE\",\"TOTAL LIVE\"]]\n",
    "violations_cameras_merge= violations_cameras_merge.rename(columns= {\"CAMERA ID\":\"TOTAL VIOLATIONS\",\n",
    "                                                                    \"GO-LIVE DATE\":\"CAMERAS ADDED\",\n",
    "                                                                   \"TOTAL LIVE\":\"TOTAL CAMERAS LIVE\"})\n",
    "violations_cameras_merge"
   ]
  },
  {
   "cell_type": "code",
   "execution_count": null,
   "id": "2ce5a418",
   "metadata": {},
   "outputs": [],
   "source": [
    "#delete rows 2013 and 2019 due to mismatch in data ranges\n",
    "violations_cameras_merge.sort_index(ascending=True)\n",
    "violation_cameras_clean= violations_cameras_merge.drop(labels=[2013,2019], axis=0, inplace=False)\n",
    "violation_cameras_clean"
   ]
  },
  {
   "cell_type": "code",
   "execution_count": null,
   "id": "35b605ed",
   "metadata": {},
   "outputs": [],
   "source": [
    "cameras_and_crashes= pd.merge(crash_dates_grouped,cameras_byYear, on=\"YEAR\", how=\"outer\")\n",
    "cameras_and_crashes= cameras_and_crashes[[\"CRASH_DATE\",\"GO-LIVE DATE\",\"TOTAL LIVE\"]]\n",
    "cameras_and_crashes= cameras_and_crashes.rename(columns={\"CRASH_DATE\":\"TOTAL CRASHES\",\n",
    "                                                         \"GO-LIVE DATE\":\"CAMERAS ADDED\",\n",
    "                                                         \"TOTAL LIVE\":\"TOTAL CAMERAS LIVE\"})\n",
    "cameras_and_crashes"
   ]
  },
  {
   "cell_type": "code",
   "execution_count": null,
   "id": "e86e00af",
   "metadata": {},
   "outputs": [],
   "source": [
    "#delete rows 2013, 2019, 2020, and 2021 due to mismatch in data ranges\n",
    "cameras_and_crashes_clean= cameras_and_crashes.drop(labels=[2013,2019,2020,2021], axis=0, inplace=False)\n"
   ]
  },
  {
   "cell_type": "code",
   "execution_count": null,
   "id": "1a6a52aa",
   "metadata": {},
   "outputs": [],
   "source": [
    "\n",
    "# output merged dataframes to CSVs\n",
    "\n",
    "cameras_and_crashes.to_csv('Output Data/cameras_and_crashes.csv', index=True)\n",
    "\n",
    "\n",
    "\n",
    "cameras_and_crashes_clean.to_csv('Output Data/cameras_and_crashes_clean.csv', index=True)\n",
    "violation_cameras_clean.to_csv('Output Data/violations_cameras_clean.csv', index=True)"
   ]
  },
  {
   "cell_type": "code",
   "execution_count": null,
   "id": "8d1478aa",
   "metadata": {},
   "outputs": [],
   "source": [
    "#### FIRST PHASE ENDS HERE #####"
   ]
  }
 ],
 "metadata": {
  "kernelspec": {
   "display_name": "Python 3",
   "language": "python",
   "name": "python3"
  },
  "language_info": {
   "codemirror_mode": {
    "name": "ipython",
    "version": 3
   },
   "file_extension": ".py",
   "mimetype": "text/x-python",
   "name": "python",
   "nbconvert_exporter": "python",
   "pygments_lexer": "ipython3",
   "version": "3.8.8"
  }
 },
 "nbformat": 4,
 "nbformat_minor": 5
}
