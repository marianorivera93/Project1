{
 "cells": [
  {
   "cell_type": "code",
   "execution_count": null,
   "id": "6a5f7938",
   "metadata": {},
   "outputs": [],
   "source": [
    "\n",
    "import pandas as pd\n",
    "import numpy as np\n",
    "import matplotlib.pyplot as plt\n",
    "\n",
    "pd.set_option('mode.chained_assignment', None)\n"
   ]
  },
  {
   "cell_type": "code",
   "execution_count": null,
   "id": "adcda4a3",
   "metadata": {},
   "outputs": [],
   "source": [
    "#https://www.kaggle.com/chicago/chicago-red-light-and-speed-camera-data\n",
    "csv_path_locations= \"Data_Files/speed-camera-locations.csv\"\n",
    "csv_path_violations=\"Data_Files/speed-camera-violations.csv\"\n",
    "\n",
    "#https://data.cityofchicago.org/Transportation/Traffic-Crashes-Crashes/85ca-t3if\n",
    "csv_path_crashes=\"Data_Files/Traffic_Crashes_-_Crashes.csv\"\n",
    "\n",
    "camera_locations_df= pd.read_csv(csv_path_locations)\n",
    "violations_df= pd.read_csv(csv_path_violations)\n",
    "crashes_df= pd.read_csv(csv_path_crashes)\n",
    "pd.set_option('max_columns', None)\n",
    "violations_df\n"
   ]
  },
  {
   "cell_type": "code",
   "execution_count": null,
   "id": "3db538db",
   "metadata": {},
   "outputs": [],
   "source": [
    "#Filter out violation columns and pull out year \n",
    "\n",
    "violation_dates= violations_df[[\"CAMERA ID\",\"VIOLATION DATE\"]]\n",
    "violation_dates['YEAR']= pd.DatetimeIndex(violation_dates[\"VIOLATION DATE\"]).year\n",
    "violation_dates['MONTH']= pd.DatetimeIndex(violation_dates[\"VIOLATION DATE\"]).month\n",
    "violation_dates['YEAR_MONTH']= pd.to_datetime(violation_dates[[\"YEAR\",\"MONTH\"]].assign(Day=1))\n",
    "\n",
    "#bin the violations by quarter\n",
    "min(violation_dates['YEAR_MONTH'])\n",
    "max(violation_dates['YEAR_MONTH'])\n",
    "quarterly_bins_violations= pd.date_range(start='2014-03-01',end='2020-03-01', freq=\"Q\")\n",
    "violations_labels= []\n",
    "for x in range(1,len(quarterly_bins_violations)):\n",
    "    violations_labels.append(str(quarterly_bins_violations[x]))\n",
    "violation_dates[\"QUARTERLY BINS\"]= pd.cut(violation_dates['YEAR_MONTH'], quarterly_bins_violations, labels=violations_labels)\n",
    "violation_dates\n",
    "\n",
    "#groupby\n",
    "violation_dates_grouped= violation_dates.groupby(\"QUARTERLY BINS\").count()\n",
    "violation_dates_grouped\n",
    "\n",
    "\n",
    "\n",
    "\n"
   ]
  },
  {
   "cell_type": "code",
   "execution_count": null,
   "id": "184aca7d",
   "metadata": {},
   "outputs": [],
   "source": [
    "#Filter out camera location columns and pull out year and month\n",
    "camera_locations_df.head()\n",
    "# crash_dates_df['YEAR']= pd.DatetimeIndex(crash_dates_df[\"CRASH_DATE\"]).year\n",
    "camera_install_dates= camera_locations_df[[\"GO-LIVE DATE\",\"ADDRESS\"]]\n",
    "camera_install_dates['YEAR']= pd.DatetimeIndex(camera_install_dates[\"GO-LIVE DATE\"]).year\n",
    "camera_install_dates['MONTH']= pd.DatetimeIndex(camera_install_dates[\"GO-LIVE DATE\"]).month\n",
    "# violation_dates['YEAR_MONTH']= pd.to_datetime(violation_dates[[\"YEAR\",\"MONTH\"]].assign(Day=1))\n",
    "camera_install_dates['YEAR_MONTH']=pd.to_datetime(camera_install_dates[['YEAR','MONTH']].assign(Day=1))\n",
    "camera_install_dates.head()\n",
    "\n",
    "\n",
    "\n",
    "\n",
    "#bin the violations by quarter\n",
    "quarterly_bins_cameras= pd.date_range(start='2013-05-01',end='2020-03-01', freq=\"Q\")\n",
    "cameras_labels= []\n",
    "for x in range(1, len(quarterly_bins_cameras)):\n",
    "    cameras_labels.append(str(quarterly_bins_cameras[x]))\n",
    "\n",
    "# violation_dates[\"QUARTER BINS\"]= pd.cut(violation_dates['YEAR_MONTH'], quarterly_bins, labels=violations_labels)\n",
    "# violation_dates  \n",
    "\n",
    "camera_install_dates[\"QUARTERLY BINS\"]=pd.cut(camera_install_dates['YEAR_MONTH'], \n",
    "                          quarterly_bins_cameras, labels=cameras_labels )\n",
    "\n",
    "\n",
    "#df_na['sex'].value_counts(dropna=False\n",
    "camera_install_dates[\"QUARTERLY BINS\"].value_counts(dropna=False)\n",
    "\n",
    "\n",
    "cameras_byQuarter= camera_install_dates.groupby(\"QUARTERLY BINS\").count()\n",
    "cameras_byQuarter\n",
    "\n",
    "\n",
    "# add totals cameras at end of each year\n",
    "quarters= cameras_byQuarter.index.tolist()\n",
    "quarter_totals= []\n",
    "total_installed= 0\n",
    "for quarter in quarters:\n",
    "    total_installed=  total_installed + cameras_byQuarter.loc[quarter, [\"GO-LIVE DATE\"]]\n",
    "    quarter_totals.append(int(total_installed))\n",
    "    \n",
    "cameras_byQuarter[\"TOTAL LIVE\"]= quarter_totals\n",
    "cameras_byQuarter"
   ]
  },
  {
   "cell_type": "code",
   "execution_count": null,
   "id": "dc4b5e76",
   "metadata": {},
   "outputs": [],
   "source": [
    "#Filter out crash date columns and pull out year and month\n",
    "\n",
    "crash_dates_df= crashes_df[[\"CRASH_DATE\",\"CRASH_MONTH\",\"INJURIES_TOTAL\"]]\n",
    "crash_dates_df= crash_dates_df.rename(columns={\"CRASH_MONTH\":\"MONTH\"})\n",
    "crash_dates_df.head()                           \n",
    "pd.set_option('mode.chained_assignment', None)\n",
    "crash_dates_df['YEAR']= pd.DatetimeIndex(crash_dates_df[\"CRASH_DATE\"]).year\n",
    "crash_dates_df['YEAR_MONTH']= pd.to_datetime(crash_dates_df[[\"YEAR\",\"MONTH\"]].assign(Day=1))"
   ]
  },
  {
   "cell_type": "code",
   "execution_count": null,
   "id": "c9be81a1",
   "metadata": {},
   "outputs": [],
   "source": [
    "#Bin crashes by quarters\n",
    "quarterly_bins_crashes= pd.date_range(start='2014-01-01',end='2022-01-01', freq=\"Q\")\n",
    "crash_labels= []\n",
    "for x in range(1,len(quarterly_bins_crashes)):\n",
    "    crash_labels.append(str(quarterly_bins_crashes[x]))\n",
    "crash_dates_df[\"QUARTERLY BINS\"]= pd.cut(crash_dates_df['YEAR_MONTH'], quarterly_bins_crashes, labels=crash_labels)\n",
    "crash_dates_df"
   ]
  },
  {
   "cell_type": "code",
   "execution_count": null,
   "id": "a5641b26",
   "metadata": {},
   "outputs": [],
   "source": [
    "#group crashes by quarterly bins\n",
    "crash_dates_grouped= crash_dates_df.groupby(\"QUARTERLY BINS\").count()\n",
    "crash_dates_grouped"
   ]
  },
  {
   "cell_type": "markdown",
   "id": "2b4e06ab",
   "metadata": {},
   "source": [
    "Displaying All Tables"
   ]
  },
  {
   "cell_type": "code",
   "execution_count": null,
   "id": "23dc0cdc",
   "metadata": {},
   "outputs": [],
   "source": [
    "violation_dates_grouped"
   ]
  },
  {
   "cell_type": "code",
   "execution_count": null,
   "id": "6baf5996",
   "metadata": {},
   "outputs": [],
   "source": [
    "cameras_byQuarter"
   ]
  },
  {
   "cell_type": "code",
   "execution_count": null,
   "id": "fa8a3775",
   "metadata": {},
   "outputs": [],
   "source": [
    "crash_dates_grouped"
   ]
  },
  {
   "cell_type": "code",
   "execution_count": null,
   "id": "0303b90e",
   "metadata": {},
   "outputs": [],
   "source": [
    "\n",
    "violations_cameras_merge= pd.merge(violation_dates_grouped,cameras_byQuarter, left_index=True, right_index=True, how=\"inner\")\n",
    "violations_cameras_merge\n"
   ]
  },
  {
   "cell_type": "code",
   "execution_count": null,
   "id": "2596d49a",
   "metadata": {},
   "outputs": [],
   "source": [
    "#Filter down columns\n",
    "violations_cameras_merge= violations_cameras_merge[[\"CAMERA ID\",\"GO-LIVE DATE\",\"TOTAL LIVE\"]]\n",
    "violations_cameras_merge"
   ]
  },
  {
   "cell_type": "code",
   "execution_count": null,
   "id": "de7d759b",
   "metadata": {},
   "outputs": [],
   "source": [
    "#rename columns\n",
    "violations_cameras_merge= violations_cameras_merge.rename(columns= {\"CAMERA ID\":\"TOTAL VIOLATIONS\",\n",
    "                                                                    \"GO-LIVE DATE\":\"CAMERAS ADDED\",\n",
    "                                                                   \"TOTAL LIVE\":\"TOTAL CAMERAS LIVE\"})"
   ]
  },
  {
   "cell_type": "code",
   "execution_count": null,
   "id": "b3d709b8",
   "metadata": {},
   "outputs": [],
   "source": [
    "#violations per camera column\n",
    "violations_cameras_merge['VIOLATIONS PER CAMERA']=violations_cameras_merge['TOTAL VIOLATIONS']/violations_cameras_merge['TOTAL CAMERAS LIVE']\n",
    "violation_cameras_clean= violations_cameras_merge\n",
    "violation_cameras_clean"
   ]
  },
  {
   "cell_type": "code",
   "execution_count": null,
   "id": "989cb85a",
   "metadata": {},
   "outputs": [],
   "source": [
    "violation_cameras_clean.plot.scatter(x='TOTAL CAMERAS LIVE' ,y='TOTAL VIOLATIONS')"
   ]
  },
  {
   "cell_type": "code",
   "execution_count": null,
   "id": "1aed4e0e",
   "metadata": {},
   "outputs": [],
   "source": [
    "violation_cameras_clean.plot.scatter(x='TOTAL CAMERAS LIVE' ,y='VIOLATIONS PER CAMERA')"
   ]
  },
  {
   "cell_type": "code",
   "execution_count": null,
   "id": "ff0f215a",
   "metadata": {},
   "outputs": [],
   "source": [
    "violation_cameras_clean.plot.line(y='VIOLATIONS PER CAMERA', rot=\"45\")"
   ]
  },
  {
   "cell_type": "code",
   "execution_count": null,
   "id": "aa26e81f",
   "metadata": {},
   "outputs": [],
   "source": [
    "cameras_and_crashes= pd.merge(crash_dates_grouped,cameras_byQuarter, left_index=True, right_index=True, how=\"inner\")\n"
   ]
  },
  {
   "cell_type": "code",
   "execution_count": null,
   "id": "2640b7a7",
   "metadata": {},
   "outputs": [],
   "source": [
    "cameras_and_crashes= cameras_and_crashes[[\"CRASH_DATE\",\"GO-LIVE DATE\",\"TOTAL LIVE\"]]\n",
    "cameras_and_crashes= cameras_and_crashes.rename(columns={\"CRASH_DATE\":\"TOTAL CRASHES\",\n",
    "                                                         \"GO-LIVE DATE\":\"CAMERAS ADDED\",\n",
    "                                                         \"TOTAL LIVE\":\"TOTAL CAMERAS LIVE\"})"
   ]
  },
  {
   "cell_type": "code",
   "execution_count": null,
   "id": "3578ca7c",
   "metadata": {},
   "outputs": [],
   "source": [
    "cameras_and_crashes_clean= cameras_and_crashes\n",
    "cameras_and_crashes_clean"
   ]
  },
  {
   "cell_type": "code",
   "execution_count": null,
   "id": "1a6a52aa",
   "metadata": {},
   "outputs": [],
   "source": [
    "# output merged dataframes to CSVs\n",
    "\n"
   ]
  },
  {
   "cell_type": "code",
   "execution_count": null,
   "id": "aaec74c7",
   "metadata": {},
   "outputs": [],
   "source": [
    "cameras_and_crashes_clean.plot.scatter(x='TOTAL CAMERAS LIVE',y=\n",
    "                                 'TOTAL CRASHES')\n",
    "\n"
   ]
  },
  {
   "cell_type": "code",
   "execution_count": null,
   "id": "9153671a",
   "metadata": {},
   "outputs": [],
   "source": [
    "cameras_and_crashes_clean.plot.line( y='TOTAL CRASHES', rot=\"45\")"
   ]
  },
  {
   "cell_type": "code",
   "execution_count": null,
   "id": "8d1478aa",
   "metadata": {},
   "outputs": [],
   "source": [
    "# output merged dataframes to CSVs\n",
    "\n",
    "cameras_and_crashes.to_csv('Output Data/cameras_and_crashes.csv', index=True)\n",
    "cameras_and_crashes_clean.to_csv('Output Data/cameras_and_crashes_clean.csv', index=True)\n",
    "violation_cameras_clean.to_csv('Output Data/violations_cameras_clean.csv', index=True)\n",
    "\n",
    "#### PHASE ONE BEGINS HERE #####"
   ]
  },
  {
   "cell_type": "code",
   "execution_count": null,
   "id": "b266429f",
   "metadata": {},
   "outputs": [],
   "source": []
  }
 ],
 "metadata": {
  "kernelspec": {
   "display_name": "Python 3",
   "language": "python",
   "name": "python3"
  },
  "language_info": {
   "codemirror_mode": {
    "name": "ipython",
    "version": 3
   },
   "file_extension": ".py",
   "mimetype": "text/x-python",
   "name": "python",
   "nbconvert_exporter": "python",
   "pygments_lexer": "ipython3",
   "version": "3.8.8"
  }
 },
 "nbformat": 4,
 "nbformat_minor": 5
}
